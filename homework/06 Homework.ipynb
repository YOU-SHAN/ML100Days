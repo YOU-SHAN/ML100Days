{
 "cells": [
  {
   "cell_type": "markdown",
   "metadata": {
    "id": "P6xk2_jLsvFF"
   },
   "source": [
    "# [作業目標]\n",
    "\n",
    "1. [簡答題] 請問下列這三種方法有什麼不同？\n",
    "\n",
    "```\n",
    "print(a.sum()) \n",
    "print(np.sum(a))\n",
    "print(sum(a)) \n",
    "```\n",
    "\n",
    "2. 請對一個 5x5 的隨機矩陣作正規化的操作。\n",
    "\n",
    "3. 請建立一個長度等於 10 的正整數向量，並且將其中的最大值改成 -1。\n"
   ]
  },
  {
   "cell_type": "markdown",
   "metadata": {
    "id": "uXGll28asvFS"
   },
   "source": [
    "# 作業 "
   ]
  },
  {
   "cell_type": "markdown",
   "metadata": {
    "id": "lbz8VjL6jxyL"
   },
   "source": [
    "### 1. [簡答題] 請問下列這三種方法有什麼不同？\n",
    "\n",
    "```\n",
    "print(a.sum()) \n",
    "print(np.sum(a))\n",
    "print(sum(a)) \n",
    "```\n",
    "\n"
   ]
  },
  {
   "cell_type": "code",
   "execution_count": 2,
   "metadata": {
    "id": "5QrYoyNWsvFS",
    "outputId": "e9e14d36-38ce-4ce5-edf2-3c7b129db580"
   },
   "outputs": [
    {
     "name": "stdout",
     "output_type": "stream",
     "text": [
      "15\n",
      "15\n",
      "[3 5 7]\n"
     ]
    },
    {
     "data": {
      "text/plain": [
       "'\\na.sum() 對多維的陣列進行操作，可以設定 Axis 的參數\\nnp.sum(a) 在多維度下，亦可設定 Axis 參數\\nsum(a) 在多維度下，則是回傳 Axis=0的值\\n不過在一維度下，無差別\\n'"
      ]
     },
     "execution_count": 2,
     "metadata": {},
     "output_type": "execute_result"
    }
   ],
   "source": [
    "import numpy as np\n",
    "\n",
    "a = np.arange(6).reshape(2,3)\n",
    "print(a.sum())\n",
    "print(np.sum(a))\n",
    "print(sum(a))\n",
    "'''\n",
    "a.sum() 對多維的陣列進行操作，可以設定 Axis 的參數\n",
    "np.sum(a) 在多維度下，亦可設定 Axis 參數\n",
    "sum(a) 在多維度下，則是回傳 Axis=0的值\n",
    "不過在一維度下，無差別\n",
    "'''"
   ]
  },
  {
   "cell_type": "markdown",
   "metadata": {
    "id": "vVrjBXabjxyS"
   },
   "source": [
    "### 2. 請對一個 5x5 的隨機矩陣作正規化的操作。\n"
   ]
  },
  {
   "cell_type": "code",
   "execution_count": 6,
   "metadata": {
    "id": "ffDRVHs9jxyS"
   },
   "outputs": [
    {
     "data": {
      "text/plain": [
       "'\\n正規化是將資料等比例縮放到 [0, 1] 區間中\\n'"
      ]
     },
     "execution_count": 6,
     "metadata": {},
     "output_type": "execute_result"
    }
   ],
   "source": [
    "# 記得先 Import 正確的套件\n",
    "\n",
    "import numpy as np\n",
    "'''\n",
    "正規化是將資料等比例縮放到 [0, 1] 區間中\n",
    "'''"
   ]
  },
  {
   "cell_type": "code",
   "execution_count": 7,
   "metadata": {
    "id": "e1gVI0tvsvFY",
    "outputId": "43bf676f-fd04-4edf-c062-b5fe7fe1f4bf"
   },
   "outputs": [
    {
     "name": "stdout",
     "output_type": "stream",
     "text": [
      "[[0.89385689 0.19030355 0.58034032 0.4784624  0.34048495]\n",
      " [0.08388419 0.76633631 0.20470086 0.58068533 0.04092804]\n",
      " [0.01178321 0.74828985 0.94736209 0.40145545 0.37928856]\n",
      " [0.31017756 0.87760397 0.71311086 0.03696668 0.96776042]\n",
      " [0.53282555 0.40718429 0.45256669 0.32518187 0.81378942]]\n",
      "[[0.92269321 0.18674121 0.59473919 0.48816979 0.34383847]\n",
      " [0.07542124 0.7893003  0.20180152 0.59510009 0.03048695]\n",
      " [0.         0.7704228  0.97866232 0.40761667 0.38442899]\n",
      " [0.31213543 0.90569185 0.73362382 0.02634317 1.        ]\n",
      " [0.54503636 0.41360932 0.46108158 0.32783068 0.83893863]]\n"
     ]
    }
   ],
   "source": [
    "A = np.random.random((5, 5))\n",
    "print(A)\n",
    "normalA = (A-A.min())/(A.max()-A.min())\n",
    "print(normalA)"
   ]
  },
  {
   "cell_type": "markdown",
   "metadata": {
    "id": "Ptc3ZrNQjxyU"
   },
   "source": [
    "### 3. 請建立一個長度等於 10 的正整數向量，並且將其中的最大值改成 -1。\n"
   ]
  },
  {
   "cell_type": "code",
   "execution_count": 11,
   "metadata": {
    "id": "Yu1kbLxojxyU",
    "outputId": "d323e754-178a-46ae-e15e-98275ae220dd"
   },
   "outputs": [
    {
     "name": "stdout",
     "output_type": "stream",
     "text": [
      "[0.6265457  0.40227508 0.66497841 0.82754103 0.12004637 0.3783523\n",
      " 0.01505355 0.96342438 0.89761401 0.09501536]\n",
      "[ 0.6265457   0.40227508  0.66497841  0.82754103  0.12004637  0.3783523\n",
      "  0.01505355 -1.          0.89761401  0.09501536]\n"
     ]
    }
   ],
   "source": [
    "import numpy as np\n",
    "\n",
    "a = np.random.random((10))\n",
    "print(a)\n",
    "\n",
    "a[a.argmax()]=-1\n",
    "\n",
    "print(a)"
   ]
  },
  {
   "cell_type": "code",
   "execution_count": null,
   "metadata": {
    "id": "IoPlZnZgjxyV"
   },
   "outputs": [],
   "source": []
  },
  {
   "cell_type": "code",
   "execution_count": null,
   "metadata": {
    "id": "V5bMfGR_jxyV"
   },
   "outputs": [],
   "source": []
  }
 ],
 "metadata": {
  "colab": {
   "name": "06 Homework_維元.ipynb",
   "provenance": []
  },
  "kernelspec": {
   "display_name": "Python 3",
   "language": "python",
   "name": "python3"
  },
  "language_info": {
   "codemirror_mode": {
    "name": "ipython",
    "version": 3
   },
   "file_extension": ".py",
   "mimetype": "text/x-python",
   "name": "python",
   "nbconvert_exporter": "python",
   "pygments_lexer": "ipython3",
   "version": "3.8.5"
  }
 },
 "nbformat": 4,
 "nbformat_minor": 1
}
